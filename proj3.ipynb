{
 "cells": [
  {
   "cell_type": "code",
   "execution_count": 16,
   "id": "295b8cf1",
   "metadata": {},
   "outputs": [],
   "source": [
    "import gymnasium as gym\n",
    "import gymnasium_env\n",
    "import numpy as np\n",
    "import matplotlib.pyplot as plt"
   ]
  },
  {
   "cell_type": "code",
   "execution_count": 17,
   "id": "79f6ab71",
   "metadata": {},
   "outputs": [
    {
     "name": "stdout",
     "output_type": "stream",
     "text": [
      "Environment 'gymnasium_env/GridWorld-v0' registered successfully.\n"
     ]
    }
   ],
   "source": [
    "from gymnasium.envs.registration import register\n",
    "\n",
    "try:\n",
    "    register(\n",
    "        id=\"gymnasium_env/GridWorld-v0\",\n",
    "        entry_point=\"gymnasium_env.envs:GridWorldEnv\",\n",
    "    )\n",
    "    print(\"Environment 'gymnasium_env/GridWorld-v0' registered successfully.\")\n",
    "except gym.error.AlreadyRegistered:\n",
    "    print(\"Environment 'gymnasium_env/GridWorld-v0' already registered.\")"
   ]
  },
  {
   "cell_type": "code",
   "execution_count": 18,
   "id": "4d0d3eb2",
   "metadata": {},
   "outputs": [],
   "source": [
    "env = gym.make(\"gymnasium_env/GridWorld-v0\", render_mode=\"human\")"
   ]
  },
  {
   "cell_type": "code",
   "execution_count": 19,
   "id": "8aa4227c",
   "metadata": {},
   "outputs": [],
   "source": [
    "observation, info = env.reset()\n",
    "img = env.render()"
   ]
  },
  {
   "cell_type": "code",
   "execution_count": 15,
   "id": "5f608f98",
   "metadata": {},
   "outputs": [],
   "source": [
    "env.close()"
   ]
  },
  {
   "cell_type": "code",
   "execution_count": null,
   "id": "7c705dc9",
   "metadata": {},
   "outputs": [],
   "source": [
    "plt.figure(figsize=(5,5))\n",
    "plt.imshow(img)\n",
    "plt.axis('off')\n",
    "plt.title(\"Environment\")"
   ]
  }
 ],
 "metadata": {
  "kernelspec": {
   "display_name": "ai_proj",
   "language": "python",
   "name": "python3"
  },
  "language_info": {
   "codemirror_mode": {
    "name": "ipython",
    "version": 3
   },
   "file_extension": ".py",
   "mimetype": "text/x-python",
   "name": "python",
   "nbconvert_exporter": "python",
   "pygments_lexer": "ipython3",
   "version": "3.11.11"
  }
 },
 "nbformat": 4,
 "nbformat_minor": 5
}
