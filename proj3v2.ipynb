{
 "cells": [
  {
   "cell_type": "code",
   "id": "initial_id",
   "metadata": {
    "collapsed": true,
    "ExecuteTime": {
     "end_time": "2025-06-03T23:26:38.133101Z",
     "start_time": "2025-06-03T23:26:38.127476Z"
    }
   },
   "source": [
    "import torch\n",
    "import gymnasium as gym\n",
    "from Qlearning_agent.Qlearning import QLearner, train_agent_alpha\n",
    "import gymnasium_env\n",
    "import numpy as np\n",
    "import matplotlib.pyplot as plt\n",
    "from gymnasium_env.wrappers.probability import SkipMoveWrapper"
   ],
   "outputs": [],
   "execution_count": 33
  },
  {
   "metadata": {
    "ExecuteTime": {
     "end_time": "2025-06-03T23:26:38.143680Z",
     "start_time": "2025-06-03T23:26:38.136115Z"
    }
   },
   "cell_type": "code",
   "source": [
    "from gymnasium.envs.registration import register\n",
    "\n",
    "try:\n",
    "    register(\n",
    "        id=\"gymnasium_env/GridWorld-v0\",\n",
    "        entry_point=\"gymnasium_env.envs:GridWorldEnv\",\n",
    "    )\n",
    "    print(\"Environment 'gymnasium_env/GridWorld-v0' registered successfully.\")\n",
    "except gym.error.AlreadyRegistered:\n",
    "    print(\"Environment 'gymnasium_env/GridWorld-v0' already registered.\")"
   ],
   "id": "7e495b16f5ef2a83",
   "outputs": [
    {
     "name": "stdout",
     "output_type": "stream",
     "text": [
      "Environment 'gymnasium_env/GridWorld-v0' registered successfully.\n"
     ]
    }
   ],
   "execution_count": 34
  },
  {
   "metadata": {
    "ExecuteTime": {
     "end_time": "2025-06-03T23:26:38.153620Z",
     "start_time": "2025-06-03T23:26:38.146693Z"
    }
   },
   "cell_type": "code",
   "source": "env = gym.make(\"gymnasium_env/GridWorld-v0\", render_mode=\"human\")\n",
   "id": "a76cbfb4d9236732",
   "outputs": [],
   "execution_count": 35
  },
  {
   "metadata": {
    "ExecuteTime": {
     "end_time": "2025-06-03T23:26:38.195285Z",
     "start_time": "2025-06-03T23:26:38.189595Z"
    }
   },
   "cell_type": "code",
   "source": [
    "max_epsilon = 1\n",
    "min_epsilon = 0.01\n",
    "decay = 0.005\n",
    "train_episodes = 2000\n",
    "test_episodes = 100\n",
    "max_steps = 500"
   ],
   "id": "ef2f825843da2def",
   "outputs": [],
   "execution_count": 36
  },
  {
   "metadata": {
    "ExecuteTime": {
     "end_time": "2025-06-03T23:26:38.566775Z",
     "start_time": "2025-06-03T23:26:38.223616Z"
    }
   },
   "cell_type": "code",
   "source": [
    "n_actions = env.action_space.n\n",
    "agent = QLearner(n_actions=n_actions)\n",
    "rewards, epsilons = train_agent_alpha(env, agent, max_steps, train_episodes, min_epsilon, max_epsilon, decay)\n",
    "print(\"Training score over time: \" + str(sum(rewards)/train_episodes))\n",
    "plt.plot(rewards)\n",
    "plt.title(\"Learning Curve Comparison\")\n",
    "plt.xlabel(\"Episodes\")\n",
    "plt.ylabel(\"Total Reward\")\n",
    "plt.legend()\n",
    "plt.grid(True)\n",
    "plt.show()"
   ],
   "id": "99df750b6346a4d5",
   "outputs": [
    {
     "name": "stderr",
     "output_type": "stream",
     "text": [
      "Training Progress:   0%|          | 0/2000 [00:00<?, ?it/s]\n"
     ]
    },
    {
     "ename": "TypeError",
     "evalue": "unhashable type: 'dict'",
     "output_type": "error",
     "traceback": [
      "\u001B[31m---------------------------------------------------------------------------\u001B[39m",
      "\u001B[31mTypeError\u001B[39m                                 Traceback (most recent call last)",
      "\u001B[36mCell\u001B[39m\u001B[36m \u001B[39m\u001B[32mIn[37]\u001B[39m\u001B[32m, line 3\u001B[39m\n\u001B[32m      1\u001B[39m n_actions = env.action_space.n\n\u001B[32m      2\u001B[39m agent = QLearner(n_actions=n_actions)\n\u001B[32m----> \u001B[39m\u001B[32m3\u001B[39m rewards, epsilons = \u001B[43mtrain_agent_alpha\u001B[49m\u001B[43m(\u001B[49m\u001B[43menv\u001B[49m\u001B[43m,\u001B[49m\u001B[43m \u001B[49m\u001B[43magent\u001B[49m\u001B[43m,\u001B[49m\u001B[43m \u001B[49m\u001B[43mmax_steps\u001B[49m\u001B[43m,\u001B[49m\u001B[43m \u001B[49m\u001B[43mtrain_episodes\u001B[49m\u001B[43m,\u001B[49m\u001B[43m \u001B[49m\u001B[43mmin_epsilon\u001B[49m\u001B[43m,\u001B[49m\u001B[43m \u001B[49m\u001B[43mmax_epsilon\u001B[49m\u001B[43m,\u001B[49m\u001B[43m \u001B[49m\u001B[43mdecay\u001B[49m\u001B[43m)\u001B[49m\n\u001B[32m      4\u001B[39m \u001B[38;5;28mprint\u001B[39m(\u001B[33m\"\u001B[39m\u001B[33mTraining score over time: \u001B[39m\u001B[33m\"\u001B[39m + \u001B[38;5;28mstr\u001B[39m(\u001B[38;5;28msum\u001B[39m(rewards)/train_episodes))\n\u001B[32m      5\u001B[39m plt.plot(rewards)\n",
      "\u001B[36mFile \u001B[39m\u001B[32m~\\Documents\\GitHub\\ai_agh\\Qlearning_agent\\Qlearning.py:75\u001B[39m, in \u001B[36mtrain_agent_alpha\u001B[39m\u001B[34m(env, agent, max_steps, train_episodes, min_epsilon, max_epsilon, decay)\u001B[39m\n\u001B[32m     72\u001B[39m new_state, reward, terminated, truncated, info = env.step(action)\n\u001B[32m     73\u001B[39m new_state = \u001B[38;5;28mtuple\u001B[39m(new_state)\n\u001B[32m---> \u001B[39m\u001B[32m75\u001B[39m \u001B[38;5;28;01mif\u001B[39;00m \u001B[43mstate\u001B[49m\u001B[43m \u001B[49m\u001B[38;5;129;43;01mnot\u001B[39;49;00m\u001B[43m \u001B[49m\u001B[38;5;129;43;01min\u001B[39;49;00m\u001B[43m \u001B[49m\u001B[43mstate_visit_count\u001B[49m:\n\u001B[32m     76\u001B[39m     state_visit_count[state] = \u001B[32m0\u001B[39m\n\u001B[32m     77\u001B[39m state_visit_count[state] += \u001B[32m1\u001B[39m\n",
      "\u001B[31mTypeError\u001B[39m: unhashable type: 'dict'"
     ]
    }
   ],
   "execution_count": 37
  },
  {
   "metadata": {
    "ExecuteTime": {
     "end_time": "2025-06-03T23:26:43.573348Z",
     "start_time": "2025-06-03T23:26:42.613356Z"
    }
   },
   "cell_type": "code",
   "source": [
    "from stable_baselines3 import PPO\n",
    "from stable_baselines3.common.env_util import make_vec_env\n",
    "from stable_baselines3.common.vec_env import SubprocVecEnv\n",
    "\n",
    "model = PPO(\"MlpPolicy\", env, verbose=1)\n",
    "model.learn(total_timesteps=25_000)"
   ],
   "id": "88a269c246e87376",
   "outputs": [
    {
     "ename": "ModuleNotFoundError",
     "evalue": "No module named 'torch._C'",
     "output_type": "error",
     "traceback": [
      "\u001B[31m---------------------------------------------------------------------------\u001B[39m",
      "\u001B[31mModuleNotFoundError\u001B[39m                       Traceback (most recent call last)",
      "\u001B[36mCell\u001B[39m\u001B[36m \u001B[39m\u001B[32mIn[38]\u001B[39m\u001B[32m, line 1\u001B[39m\n\u001B[32m----> \u001B[39m\u001B[32m1\u001B[39m \u001B[38;5;28;01mfrom\u001B[39;00m\u001B[38;5;250m \u001B[39m\u001B[34;01mstable_baselines3\u001B[39;00m\u001B[38;5;250m \u001B[39m\u001B[38;5;28;01mimport\u001B[39;00m PPO\n\u001B[32m      2\u001B[39m \u001B[38;5;28;01mfrom\u001B[39;00m\u001B[38;5;250m \u001B[39m\u001B[34;01mstable_baselines3\u001B[39;00m\u001B[34;01m.\u001B[39;00m\u001B[34;01mcommon\u001B[39;00m\u001B[34;01m.\u001B[39;00m\u001B[34;01menv_util\u001B[39;00m\u001B[38;5;250m \u001B[39m\u001B[38;5;28;01mimport\u001B[39;00m make_vec_env\n\u001B[32m      3\u001B[39m \u001B[38;5;28;01mfrom\u001B[39;00m\u001B[38;5;250m \u001B[39m\u001B[34;01mstable_baselines3\u001B[39;00m\u001B[34;01m.\u001B[39;00m\u001B[34;01mcommon\u001B[39;00m\u001B[34;01m.\u001B[39;00m\u001B[34;01mvec_env\u001B[39;00m\u001B[38;5;250m \u001B[39m\u001B[38;5;28;01mimport\u001B[39;00m SubprocVecEnv\n",
      "\u001B[36mFile \u001B[39m\u001B[32m~\\Documents\\GitHub\\ai_agh\\.venv\\Lib\\site-packages\\stable_baselines3\\__init__.py:3\u001B[39m\n\u001B[32m      1\u001B[39m \u001B[38;5;28;01mimport\u001B[39;00m\u001B[38;5;250m \u001B[39m\u001B[34;01mos\u001B[39;00m\n\u001B[32m----> \u001B[39m\u001B[32m3\u001B[39m \u001B[38;5;28;01mfrom\u001B[39;00m\u001B[38;5;250m \u001B[39m\u001B[34;01mstable_baselines3\u001B[39;00m\u001B[34;01m.\u001B[39;00m\u001B[34;01ma2c\u001B[39;00m\u001B[38;5;250m \u001B[39m\u001B[38;5;28;01mimport\u001B[39;00m A2C\n\u001B[32m      4\u001B[39m \u001B[38;5;28;01mfrom\u001B[39;00m\u001B[38;5;250m \u001B[39m\u001B[34;01mstable_baselines3\u001B[39;00m\u001B[34;01m.\u001B[39;00m\u001B[34;01mcommon\u001B[39;00m\u001B[34;01m.\u001B[39;00m\u001B[34;01mutils\u001B[39;00m\u001B[38;5;250m \u001B[39m\u001B[38;5;28;01mimport\u001B[39;00m get_system_info\n\u001B[32m      5\u001B[39m \u001B[38;5;28;01mfrom\u001B[39;00m\u001B[38;5;250m \u001B[39m\u001B[34;01mstable_baselines3\u001B[39;00m\u001B[34;01m.\u001B[39;00m\u001B[34;01mddpg\u001B[39;00m\u001B[38;5;250m \u001B[39m\u001B[38;5;28;01mimport\u001B[39;00m DDPG\n",
      "\u001B[36mFile \u001B[39m\u001B[32m~\\Documents\\GitHub\\ai_agh\\.venv\\Lib\\site-packages\\stable_baselines3\\a2c\\__init__.py:1\u001B[39m\n\u001B[32m----> \u001B[39m\u001B[32m1\u001B[39m \u001B[38;5;28;01mfrom\u001B[39;00m\u001B[38;5;250m \u001B[39m\u001B[34;01mstable_baselines3\u001B[39;00m\u001B[34;01m.\u001B[39;00m\u001B[34;01ma2c\u001B[39;00m\u001B[34;01m.\u001B[39;00m\u001B[34;01ma2c\u001B[39;00m\u001B[38;5;250m \u001B[39m\u001B[38;5;28;01mimport\u001B[39;00m A2C\n\u001B[32m      2\u001B[39m \u001B[38;5;28;01mfrom\u001B[39;00m\u001B[38;5;250m \u001B[39m\u001B[34;01mstable_baselines3\u001B[39;00m\u001B[34;01m.\u001B[39;00m\u001B[34;01ma2c\u001B[39;00m\u001B[34;01m.\u001B[39;00m\u001B[34;01mpolicies\u001B[39;00m\u001B[38;5;250m \u001B[39m\u001B[38;5;28;01mimport\u001B[39;00m CnnPolicy, MlpPolicy, MultiInputPolicy\n\u001B[32m      4\u001B[39m __all__ = [\u001B[33m\"\u001B[39m\u001B[33mA2C\u001B[39m\u001B[33m\"\u001B[39m, \u001B[33m\"\u001B[39m\u001B[33mCnnPolicy\u001B[39m\u001B[33m\"\u001B[39m, \u001B[33m\"\u001B[39m\u001B[33mMlpPolicy\u001B[39m\u001B[33m\"\u001B[39m, \u001B[33m\"\u001B[39m\u001B[33mMultiInputPolicy\u001B[39m\u001B[33m\"\u001B[39m]\n",
      "\u001B[36mFile \u001B[39m\u001B[32m~\\Documents\\GitHub\\ai_agh\\.venv\\Lib\\site-packages\\stable_baselines3\\a2c\\a2c.py:5\u001B[39m\n\u001B[32m      3\u001B[39m \u001B[38;5;28;01mimport\u001B[39;00m\u001B[38;5;250m \u001B[39m\u001B[34;01mtorch\u001B[39;00m\u001B[38;5;250m \u001B[39m\u001B[38;5;28;01mas\u001B[39;00m\u001B[38;5;250m \u001B[39m\u001B[34;01mth\u001B[39;00m\n\u001B[32m      4\u001B[39m \u001B[38;5;28;01mfrom\u001B[39;00m\u001B[38;5;250m \u001B[39m\u001B[34;01mgymnasium\u001B[39;00m\u001B[38;5;250m \u001B[39m\u001B[38;5;28;01mimport\u001B[39;00m spaces\n\u001B[32m----> \u001B[39m\u001B[32m5\u001B[39m \u001B[38;5;28;01mfrom\u001B[39;00m\u001B[38;5;250m \u001B[39m\u001B[34;01mtorch\u001B[39;00m\u001B[34;01m.\u001B[39;00m\u001B[34;01mnn\u001B[39;00m\u001B[38;5;250m \u001B[39m\u001B[38;5;28;01mimport\u001B[39;00m functional \u001B[38;5;28;01mas\u001B[39;00m F\n\u001B[32m      7\u001B[39m \u001B[38;5;28;01mfrom\u001B[39;00m\u001B[38;5;250m \u001B[39m\u001B[34;01mstable_baselines3\u001B[39;00m\u001B[34;01m.\u001B[39;00m\u001B[34;01mcommon\u001B[39;00m\u001B[34;01m.\u001B[39;00m\u001B[34;01mbuffers\u001B[39;00m\u001B[38;5;250m \u001B[39m\u001B[38;5;28;01mimport\u001B[39;00m RolloutBuffer\n\u001B[32m      8\u001B[39m \u001B[38;5;28;01mfrom\u001B[39;00m\u001B[38;5;250m \u001B[39m\u001B[34;01mstable_baselines3\u001B[39;00m\u001B[34;01m.\u001B[39;00m\u001B[34;01mcommon\u001B[39;00m\u001B[34;01m.\u001B[39;00m\u001B[34;01mon_policy_algorithm\u001B[39;00m\u001B[38;5;250m \u001B[39m\u001B[38;5;28;01mimport\u001B[39;00m OnPolicyAlgorithm\n",
      "\u001B[36mFile \u001B[39m\u001B[32m~\\Documents\\GitHub\\ai_agh\\.venv\\Lib\\site-packages\\torch\\nn\\__init__.py:2\u001B[39m\n\u001B[32m      1\u001B[39m \u001B[38;5;66;03m# mypy: allow-untyped-defs\u001B[39;00m\n\u001B[32m----> \u001B[39m\u001B[32m2\u001B[39m \u001B[38;5;28;01mfrom\u001B[39;00m\u001B[38;5;250m \u001B[39m\u001B[34;01mtorch\u001B[39;00m\u001B[34;01m.\u001B[39;00m\u001B[34;01mnn\u001B[39;00m\u001B[34;01m.\u001B[39;00m\u001B[34;01mparameter\u001B[39;00m\u001B[38;5;250m \u001B[39m\u001B[38;5;28;01mimport\u001B[39;00m (  \u001B[38;5;66;03m# usort: skip\u001B[39;00m\n\u001B[32m      3\u001B[39m     Buffer \u001B[38;5;28;01mas\u001B[39;00m Buffer,\n\u001B[32m      4\u001B[39m     Parameter \u001B[38;5;28;01mas\u001B[39;00m Parameter,\n\u001B[32m      5\u001B[39m     UninitializedBuffer \u001B[38;5;28;01mas\u001B[39;00m UninitializedBuffer,\n\u001B[32m      6\u001B[39m     UninitializedParameter \u001B[38;5;28;01mas\u001B[39;00m UninitializedParameter,\n\u001B[32m      7\u001B[39m )\n\u001B[32m      8\u001B[39m \u001B[38;5;28;01mfrom\u001B[39;00m\u001B[38;5;250m \u001B[39m\u001B[34;01mtorch\u001B[39;00m\u001B[34;01m.\u001B[39;00m\u001B[34;01mnn\u001B[39;00m\u001B[34;01m.\u001B[39;00m\u001B[34;01mmodules\u001B[39;00m\u001B[38;5;250m \u001B[39m\u001B[38;5;28;01mimport\u001B[39;00m *  \u001B[38;5;66;03m# usort: skip # noqa: F403\u001B[39;00m\n\u001B[32m      9\u001B[39m \u001B[38;5;28;01mfrom\u001B[39;00m\u001B[38;5;250m \u001B[39m\u001B[34;01mtorch\u001B[39;00m\u001B[34;01m.\u001B[39;00m\u001B[34;01mnn\u001B[39;00m\u001B[38;5;250m \u001B[39m\u001B[38;5;28;01mimport\u001B[39;00m (\n\u001B[32m     10\u001B[39m     attention \u001B[38;5;28;01mas\u001B[39;00m attention,\n\u001B[32m     11\u001B[39m     functional \u001B[38;5;28;01mas\u001B[39;00m functional,\n\u001B[32m   (...)\u001B[39m\u001B[32m     16\u001B[39m     utils \u001B[38;5;28;01mas\u001B[39;00m utils,\n\u001B[32m     17\u001B[39m )\n",
      "\u001B[36mFile \u001B[39m\u001B[32m~\\Documents\\GitHub\\ai_agh\\.venv\\Lib\\site-packages\\torch\\nn\\parameter.py:4\u001B[39m\n\u001B[32m      1\u001B[39m \u001B[38;5;28;01mfrom\u001B[39;00m\u001B[38;5;250m \u001B[39m\u001B[34;01mcollections\u001B[39;00m\u001B[38;5;250m \u001B[39m\u001B[38;5;28;01mimport\u001B[39;00m OrderedDict\n\u001B[32m      3\u001B[39m \u001B[38;5;28;01mimport\u001B[39;00m\u001B[38;5;250m \u001B[39m\u001B[34;01mtorch\u001B[39;00m\n\u001B[32m----> \u001B[39m\u001B[32m4\u001B[39m \u001B[38;5;28;01mfrom\u001B[39;00m\u001B[38;5;250m \u001B[39m\u001B[34;01mtorch\u001B[39;00m\u001B[34;01m.\u001B[39;00m\u001B[34;01m_C\u001B[39;00m\u001B[38;5;250m \u001B[39m\u001B[38;5;28;01mimport\u001B[39;00m _disabled_torch_function_impl\n\u001B[32m      7\u001B[39m \u001B[38;5;66;03m# Metaclass to combine _TensorMeta and the instance check override for Parameter.\u001B[39;00m\n\u001B[32m      8\u001B[39m \u001B[38;5;28;01mclass\u001B[39;00m\u001B[38;5;250m \u001B[39m\u001B[34;01m_ParameterMeta\u001B[39;00m(torch._C._TensorMeta):\n\u001B[32m      9\u001B[39m     \u001B[38;5;66;03m# Make `isinstance(t, Parameter)` return True for custom tensor instances that have the _is_param flag.\u001B[39;00m\n",
      "\u001B[31mModuleNotFoundError\u001B[39m: No module named 'torch._C'"
     ]
    }
   ],
   "execution_count": 38
  },
  {
   "metadata": {},
   "cell_type": "code",
   "source": "",
   "id": "af960084bc562b8e",
   "outputs": [],
   "execution_count": null
  }
 ],
 "metadata": {
  "kernelspec": {
   "display_name": "Python 3",
   "language": "python",
   "name": "python3"
  },
  "language_info": {
   "codemirror_mode": {
    "name": "ipython",
    "version": 2
   },
   "file_extension": ".py",
   "mimetype": "text/x-python",
   "name": "python",
   "nbconvert_exporter": "python",
   "pygments_lexer": "ipython2",
   "version": "2.7.6"
  }
 },
 "nbformat": 4,
 "nbformat_minor": 5
}
